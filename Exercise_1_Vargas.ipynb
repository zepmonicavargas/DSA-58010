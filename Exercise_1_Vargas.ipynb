{
  "nbformat": 4,
  "nbformat_minor": 0,
  "metadata": {
    "colab": {
      "name": "Exercise 1_Vargas.ipynb",
      "provenance": [],
      "authorship_tag": "ABX9TyM3lv0SqCaIrIREAfMQTCP+",
      "include_colab_link": true
    },
    "kernelspec": {
      "name": "python3",
      "display_name": "Python 3"
    },
    "language_info": {
      "name": "python"
    }
  },
  "cells": [
    {
      "cell_type": "markdown",
      "metadata": {
        "id": "view-in-github",
        "colab_type": "text"
      },
      "source": [
        "<a href=\"https://colab.research.google.com/github/zepmonicavargas/DSA-58010/blob/main/Exercise_1_Vargas.ipynb\" target=\"_parent\"><img src=\"https://colab.research.google.com/assets/colab-badge.svg\" alt=\"Open In Colab\"/></a>"
      ]
    },
    {
      "cell_type": "markdown",
      "source": [
        "Solving Area of a Circle with Radius"
      ],
      "metadata": {
        "id": "OdmrA4E0X70a"
      }
    },
    {
      "cell_type": "code",
      "execution_count": 16,
      "metadata": {
        "colab": {
          "base_uri": "https://localhost:8080/"
        },
        "id": "hi4tpbv1Ub_O",
        "outputId": "342f14aa-f7da-4347-bb35-f689e866450f"
      },
      "outputs": [
        {
          "output_type": "stream",
          "name": "stdout",
          "text": [
            "9\n",
            "The area of the circle with radius is 254.34\n"
          ]
        }
      ],
      "source": [
        "class Circle():\n",
        "  def __init__ (self, radius):\n",
        "    self.radius = int (radius)\n",
        "\n",
        "  def Area (self):\n",
        "    return pi * (self.radius ** 2)\n",
        "\n",
        "  def display (self):\n",
        "    print (\"The area of the circle with radius is\", self.Area())\n",
        "\n",
        "pi = 3.14\n",
        "pizza = Circle (input())\n",
        "pizza.display()"
      ]
    },
    {
      "cell_type": "markdown",
      "source": [
        "Solving Area of a Cirlce with Diameter"
      ],
      "metadata": {
        "id": "5EWdhpupX-2Y"
      }
    },
    {
      "cell_type": "code",
      "source": [
        "class Circle():\n",
        "  def __init__ (self, diameter):\n",
        "    self.diameter = int (diameter)\n",
        "\n",
        "  def Area (self):\n",
        "    return pi * (self.diameter ** 2) / 4\n",
        "\n",
        "  def display (self):\n",
        "    print (\"The area of the circle with diameter is\", self.Area())\n",
        "\n",
        "pi = 3.14\n",
        "pizza = Circle (input())\n",
        "pizza.display()"
      ],
      "metadata": {
        "colab": {
          "base_uri": "https://localhost:8080/"
        },
        "id": "IQF9Z8hsXWRC",
        "outputId": "3e1400b0-c58f-4487-a5fc-ff2657940c84"
      },
      "execution_count": 17,
      "outputs": [
        {
          "output_type": "stream",
          "name": "stdout",
          "text": [
            "18\n",
            "The area of the circle with diameter is 254.34\n"
          ]
        }
      ]
    }
  ]
}