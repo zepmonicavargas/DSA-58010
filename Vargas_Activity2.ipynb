{
  "nbformat": 4,
  "nbformat_minor": 0,
  "metadata": {
    "colab": {
      "provenance": [],
      "authorship_tag": "ABX9TyN/Dy8S+LtUgDUKTk4J7uYW",
      "include_colab_link": true
    },
    "kernelspec": {
      "name": "python3",
      "display_name": "Python 3"
    },
    "language_info": {
      "name": "python"
    }
  },
  "cells": [
    {
      "cell_type": "markdown",
      "metadata": {
        "id": "view-in-github",
        "colab_type": "text"
      },
      "source": [
        "<a href=\"https://colab.research.google.com/github/zepmonicavargas/DSA-58010/blob/main/Vargas_Activity2.ipynb\" target=\"_parent\"><img src=\"https://colab.research.google.com/assets/colab-badge.svg\" alt=\"Open In Colab\"/></a>"
      ]
    },
    {
      "cell_type": "markdown",
      "source": [
        "1. Write a Python program to create a singly linked list of prime numbers less than 20. By iterating through the list, display all the prime numbers, the head, and the tail of the list. (using Google Colab)"
      ],
      "metadata": {
        "id": "qlwm4F0rYyLo"
      }
    },
    {
      "cell_type": "code",
      "source": [
        "class PrimeNum:\n",
        "  def __init__(self,data):\n",
        "    self.data = data\n",
        "    self.next = None\n",
        "\n",
        "class SinglyLinkedList:\n",
        "  def __init__(self):\n",
        "    self.head = None\n",
        "  def printList(self):\n",
        "    temp = self.head\n",
        "    while(temp):\n",
        "      print(temp.data)\n",
        "      temp = temp.next\n",
        "\n",
        "Linkedlist = SinglyLinkedList()\n",
        "\n",
        "Linkedlist.head = PrimeNum(\"2\")\n",
        "two = PrimeNum(\"3\")\n",
        "three = PrimeNum(\"5\")\n",
        "four = PrimeNum(\"7\")\n",
        "five = PrimeNum(\"11\")\n",
        "six = PrimeNum(\"13\")\n",
        "seven = PrimeNum(\"17\")\n",
        "Linkedlist.tail = PrimeNum(\"19\")\n",
        "\n",
        "Linkedlist.head.next = two\n",
        "two.next = three\n",
        "three.next = four\n",
        "four.next = five\n",
        "five.next = six\n",
        "six.next = seven\n",
        "seven.next = Linkedlist.tail\n",
        "\n",
        "print(\"Prime Numbers Less Than 20\")\n",
        "Linkedlist.printList()"
      ],
      "metadata": {
        "colab": {
          "base_uri": "https://localhost:8080/"
        },
        "id": "lFREqC_wY3Nd",
        "outputId": "2af0260f-b303-47f2-88e3-bb67ca1f91f5"
      },
      "execution_count": 13,
      "outputs": [
        {
          "output_type": "stream",
          "name": "stdout",
          "text": [
            "Prime Numbers Less Than 20\n",
            "2\n",
            "3\n",
            "5\n",
            "7\n",
            "11\n",
            "13\n",
            "17\n",
            "19\n"
          ]
        }
      ]
    }
  ]
}