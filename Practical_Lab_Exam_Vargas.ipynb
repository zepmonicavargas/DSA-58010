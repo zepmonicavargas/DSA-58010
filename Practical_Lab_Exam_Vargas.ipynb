{
  "nbformat": 4,
  "nbformat_minor": 0,
  "metadata": {
    "colab": {
      "name": "Practical Lab Exam_Vargas.ipynb",
      "provenance": [],
      "authorship_tag": "ABX9TyOi93TuNoAOLz2CWI8PUS2/",
      "include_colab_link": true
    },
    "kernelspec": {
      "name": "python3",
      "display_name": "Python 3"
    },
    "language_info": {
      "name": "python"
    }
  },
  "cells": [
    {
      "cell_type": "markdown",
      "metadata": {
        "id": "view-in-github",
        "colab_type": "text"
      },
      "source": [
        "<a href=\"https://colab.research.google.com/github/zepmonicavargas/DSA-58010/blob/main/Practical_Lab_Exam_Vargas.ipynb\" target=\"_parent\"><img src=\"https://colab.research.google.com/assets/colab-badge.svg\" alt=\"Open In Colab\"/></a>"
      ]
    },
    {
      "cell_type": "markdown",
      "source": [
        "1. Design an algorithm and the corresponding flowchart (Note: You may use LucidChart or any application) for adding the test scores as given below if the number is even: 26,49,98,87,62,75\n",
        "2. Translate the algorithm to a Python program (using Google Colab)\n",
        "3. Save your source codes to GitHub\n",
        "4. Copy the link of your GitHub repository DSA 58010 here"
      ],
      "metadata": {
        "id": "20ezdZcGdREw"
      }
    },
    {
      "cell_type": "code",
      "execution_count": 2,
      "metadata": {
        "colab": {
          "base_uri": "https://localhost:8080/"
        },
        "id": "SIhPk6mFdPKV",
        "outputId": "0fc38456-9b82-4b1f-95ac-ffef18a7820e"
      },
      "outputs": [
        {
          "output_type": "stream",
          "name": "stdout",
          "text": [
            "Add all the even numbers on the given test scores: [26,49,98,87,62,75]\n",
            "Even Numbers are:  [26, 98, 62]\n",
            "The Sum is:  186\n"
          ]
        }
      ],
      "source": [
        "test_scores = [26,49,98,87,62,75]\n",
        "\n",
        "even_num = [num for num in test_scores if num % 2 == 0]\n",
        "total = sum(even_num)\n",
        "\n",
        "print(\"Add all the even numbers on the given test scores: [26,49,98,87,62,75]\")\n",
        "print(\"Even Numbers are: \", even_num)\n",
        "print(\"The Sum is: \", total)"
      ]
    }
  ]
}