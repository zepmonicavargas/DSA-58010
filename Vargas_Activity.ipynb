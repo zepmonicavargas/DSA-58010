{
  "cells": [
    {
      "cell_type": "markdown",
      "metadata": {
        "id": "view-in-github",
        "colab_type": "text"
      },
      "source": [
        "<a href=\"https://colab.research.google.com/github/zepmonicavargas/DSA-58010/blob/main/Vargas_Activity.ipynb\" target=\"_parent\"><img src=\"https://colab.research.google.com/assets/colab-badge.svg\" alt=\"Open In Colab\"/></a>"
      ]
    },
    {
      "cell_type": "markdown",
      "metadata": {
        "id": "h4C2tAgmP8k6"
      },
      "source": [
        "1. Write a Python program to create an array of 10 integers and display the array items. Access individual elements through indexes and compute for the sum."
      ]
    },
    {
      "cell_type": "code",
      "execution_count": 38,
      "metadata": {
        "colab": {
          "base_uri": "https://localhost:8080/"
        },
        "id": "q9kI3hs3P3tZ",
        "outputId": "0dd2db08-1f50-40c0-aa52-2f0e31cac55c"
      },
      "outputs": [
        {
          "output_type": "stream",
          "name": "stdout",
          "text": [
            "First number: 1\n",
            "Second number: 2\n",
            "Third number: 3\n",
            "Fourth number: 4\n",
            "Fifth number: 5\n",
            "Sixth number: 6\n",
            "Seventh number: 7\n",
            "Eighth number: 8\n",
            "Ninth number: 9\n",
            "Tenth number: 10\n",
            "Sum of the array is:  55\n"
          ]
        }
      ],
      "source": [
        "import array as arr\n",
        "a = arr.array('i', [1,2,3,4,5,6,7,8,9,10])\n",
        "\n",
        "print(\"First number:\", a[0])\n",
        "print(\"Second number:\", a[1])\n",
        "print(\"Third number:\", a[2])\n",
        "print(\"Fourth number:\", a[3])\n",
        "print(\"Fifth number:\", a[4])\n",
        "print(\"Sixth number:\", a[5])\n",
        "print(\"Seventh number:\", a[6])\n",
        "print(\"Eighth number:\", a[7])\n",
        "print(\"Ninth number:\", a[8])\n",
        "print(\"Tenth number:\", a[9])\n",
        "\n",
        "def _sum(arr):\n",
        "    sum = 0\n",
        "    for i in arr:\n",
        "        sum = sum + i\n",
        "    return(sum)\n",
        "arr = []\n",
        "arr = [1,2,3,4,5,6,7,8,9,10]\n",
        "n = len(arr)\n",
        "ans = _sum(arr)\n",
        "print('Sum of the array is: ', ans)"
      ]
    },
    {
      "cell_type": "markdown",
      "metadata": {
        "id": "zAi6h4juR7_4"
      },
      "source": [
        "2. Write a Python program to append a new item to the end of the array. Original array: numbers = [1, 2, 3, 4, 5, 6, 7, 8, 9, 10]"
      ]
    },
    {
      "cell_type": "code",
      "execution_count": 39,
      "metadata": {
        "id": "aLkGetfqSAYh",
        "colab": {
          "base_uri": "https://localhost:8080/"
        },
        "outputId": "34c1f224-d4c3-49fd-900b-35b0a469bdbf"
      },
      "outputs": [
        {
          "output_type": "stream",
          "name": "stdout",
          "text": [
            "Original array:  1 2 3 4 5 6 7 8 9 10 \n",
            "Array with the added variables:  1 2 3 4 5 6 7 8 9 10 11 12 \n"
          ]
        }
      ],
      "source": [
        "import array as arr\n",
        "\n",
        "a = arr.array('i', [1,2,3,4,5,6,7,8,9,10])\n",
        " \n",
        "print (\"Original array: \", end =\" \")\n",
        "for i in range (0, 10):\n",
        "    print (a[i], end =\" \")\n",
        "print()\n",
        "\n",
        "a.insert(10, 11)\n",
        "a.insert(11, 12)\n",
        " \n",
        "print (\"Array with the added variables: \", end =\" \")\n",
        "for i in (a):\n",
        "    print (i, end =\" \")\n",
        "print()"
      ]
    },
    {
      "cell_type": "markdown",
      "source": [
        "3. Write a Python program to insert a new item before the second element in an existing array. Original array: numbers = [1, 2, 3, 4, 5, 6, 7, 8, 9, 10]"
      ],
      "metadata": {
        "id": "RS-tjR-SYKAb"
      }
    },
    {
      "cell_type": "code",
      "source": [
        "import array as arr\n",
        "\n",
        "a = arr.array('i', [1,2,3,4,5,6,7,8,9,10])\n",
        " \n",
        "print (\"Original array: \", end =\" \")\n",
        "for i in range (0, 10):\n",
        "    print (a[i], end =\" \")\n",
        "print()\n",
        "\n",
        "a.insert(2, 11)\n",
        "a.insert(3, 12)\n",
        " \n",
        "print (\"Array with the inserted variables: \", end =\" \")\n",
        "for i in (a):\n",
        "    print (i, end =\" \")\n",
        "print()"
      ],
      "metadata": {
        "colab": {
          "base_uri": "https://localhost:8080/"
        },
        "id": "hG5YcoriYMXK",
        "outputId": "fd30925e-0076-44ba-8674-a8cb6c8bcbab"
      },
      "execution_count": 40,
      "outputs": [
        {
          "output_type": "stream",
          "name": "stdout",
          "text": [
            "Original array:  1 2 3 4 5 6 7 8 9 10 \n",
            "Array with the inserted variables:  1 2 11 12 3 4 5 6 7 8 9 10 \n"
          ]
        }
      ]
    },
    {
      "cell_type": "markdown",
      "source": [
        "4. Write a Python program to reverse the order of the items in the array.Original array: numbers = [5, 4, 3, 2, 1]"
      ],
      "metadata": {
        "id": "SBJihoEeZF8E"
      }
    },
    {
      "cell_type": "code",
      "source": [
        "arr = [5,4,3,2,1]\n",
        "print(\"Original Array :\", arr)\n",
        " \n",
        "rev = arr[::-1]\n",
        "print(\"Reversed Array :\", rev)"
      ],
      "metadata": {
        "colab": {
          "base_uri": "https://localhost:8080/"
        },
        "id": "AAkxKkONZIvZ",
        "outputId": "cc1cc0c9-0634-4737-df30-839420c022d9"
      },
      "execution_count": 41,
      "outputs": [
        {
          "output_type": "stream",
          "name": "stdout",
          "text": [
            "Original Array : [5, 4, 3, 2, 1]\n",
            "Reversed Array : [1, 2, 3, 4, 5]\n"
          ]
        }
      ]
    },
    {
      "cell_type": "markdown",
      "source": [
        "5. Write a Python program to get the length of the array. Original array: numbers = [5, 4, 3, 2, 1]"
      ],
      "metadata": {
        "id": "U14nytqsZRdj"
      }
    },
    {
      "cell_type": "code",
      "source": [
        "from operator import length_hint \n",
        "inp_lst = [5,4,3,2,1]\n",
        "print(\"Length of the array:\")\n",
        "size = length_hint(inp_lst)\n",
        "print(size)"
      ],
      "metadata": {
        "colab": {
          "base_uri": "https://localhost:8080/"
        },
        "id": "LbjArMmPZT8p",
        "outputId": "6bc7d90e-7850-477a-a521-62ee8d1c2c35"
      },
      "execution_count": 42,
      "outputs": [
        {
          "output_type": "stream",
          "name": "stdout",
          "text": [
            "Length of the array:\n",
            "5\n"
          ]
        }
      ]
    }
  ],
  "metadata": {
    "colab": {
      "provenance": [],
      "authorship_tag": "ABX9TyOaxLqS/U74VGB63WLgxNPg",
      "include_colab_link": true
    },
    "kernelspec": {
      "display_name": "Python 3",
      "name": "python3"
    },
    "language_info": {
      "name": "python"
    }
  },
  "nbformat": 4,
  "nbformat_minor": 0
}