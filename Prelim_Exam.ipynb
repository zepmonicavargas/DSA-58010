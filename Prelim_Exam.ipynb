{
  "nbformat": 4,
  "nbformat_minor": 0,
  "metadata": {
    "colab": {
      "provenance": [],
      "authorship_tag": "ABX9TyO+pCI4uRHU2PbR2eErz04H",
      "include_colab_link": true
    },
    "kernelspec": {
      "name": "python3",
      "display_name": "Python 3"
    },
    "language_info": {
      "name": "python"
    }
  },
  "cells": [
    {
      "cell_type": "markdown",
      "metadata": {
        "id": "view-in-github",
        "colab_type": "text"
      },
      "source": [
        "<a href=\"https://colab.research.google.com/github/zepmonicavargas/DSA-58010/blob/main/Prelim_Exam.ipynb\" target=\"_parent\"><img src=\"https://colab.research.google.com/assets/colab-badge.svg\" alt=\"Open In Colab\"/></a>"
      ]
    },
    {
      "cell_type": "markdown",
      "source": [
        "1. Choose Array data structure\n",
        "2. Create a python program that creates the array list below and counts the no. of even numbers\n",
        " A = [1,2,3,4,5,6,7,8,9,10]"
      ],
      "metadata": {
        "id": "npZBaVrXmRgq"
      }
    },
    {
      "cell_type": "code",
      "execution_count": 12,
      "metadata": {
        "colab": {
          "base_uri": "https://localhost:8080/"
        },
        "id": "XFcty3XfmKQL",
        "outputId": "4dac75c9-50e9-4b73-80af-33790eb88780"
      },
      "outputs": [
        {
          "output_type": "stream",
          "name": "stdout",
          "text": [
            "A consists: 1 2 3 4 5 6 7 8 9 10 \n",
            "Even Numbers are the following: 2 4 6 8 10\n",
            "Total Counts of the Even Numbers: 5\n"
          ]
        }
      ],
      "source": [
        "import array as arr\n",
        "\n",
        "a = arr.array('i', [1,2,3,4,5,6,7,8,9,10])\n",
        "\n",
        "print(\"A consists:\", end = \" \")\n",
        "for i in range (0, 10):\n",
        "    print (a[i], end =\" \")\n",
        "print()\n",
        "\n",
        "print(\"Even Numbers are the following:\", a[1], a[3], a[5], a[7], a[9])\n",
        "\n",
        "from operator import length_hint \n",
        "inp_lst = [2,4,6,8,10]\n",
        "size = length_hint(inp_lst)\n",
        "print(\"Total Counts of the Even Numbers:\", (size))"
      ]
    }
  ]
}