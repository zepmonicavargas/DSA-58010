{
  "nbformat": 4,
  "nbformat_minor": 0,
  "metadata": {
    "colab": {
      "provenance": [],
      "authorship_tag": "ABX9TyOZLnwXEg0z1dCjrSwxqC1Y",
      "include_colab_link": true
    },
    "kernelspec": {
      "name": "python3",
      "display_name": "Python 3"
    },
    "language_info": {
      "name": "python"
    }
  },
  "cells": [
    {
      "cell_type": "markdown",
      "metadata": {
        "id": "view-in-github",
        "colab_type": "text"
      },
      "source": [
        "<a href=\"https://colab.research.google.com/github/zepmonicavargas/DSA-58010/blob/main/LongQuiz1.ipynb\" target=\"_parent\"><img src=\"https://colab.research.google.com/assets/colab-badge.svg\" alt=\"Open In Colab\"/></a>"
      ]
    },
    {
      "cell_type": "markdown",
      "source": [
        "1) Choose either Array or Linked-List data structure\n",
        "\n",
        "2) Create a python program that appends each character of your full name and displays each character in reverse order (in Colab)"
      ],
      "metadata": {
        "id": "kJJHvzQbdkpQ"
      }
    },
    {
      "cell_type": "code",
      "source": [
        "#Array Structure\n",
        "name = [\"Zep\", \"Monica\", \"Aitziber\", \"Vargas\"]\n",
        "w = name[0]\n",
        "x = name[1]\n",
        "y = name[2]\n",
        "z = name[3]\n",
        "\n",
        "print(\"My name is\", w,x,y,z)\n",
        "\n",
        "reversedname0 = z\n",
        "reversedname1 = y\n",
        "reversedname2 = x\n",
        "reversedname3 = w\n",
        "\n",
        "print(\"My reversed name will be\", reversedname0,reversedname1,reversedname2,reversedname3)"
      ],
      "metadata": {
        "colab": {
          "base_uri": "https://localhost:8080/"
        },
        "id": "N-30NcOEdoE3",
        "outputId": "83f7c2ea-dd05-4bda-b01d-a3a211e0f07a"
      },
      "execution_count": 4,
      "outputs": [
        {
          "output_type": "stream",
          "name": "stdout",
          "text": [
            "My name is Zep Monica Aitziber Vargas\n",
            "My reversed name will be Vargas Aitziber Monica Zep\n"
          ]
        }
      ]
    }
  ]
}