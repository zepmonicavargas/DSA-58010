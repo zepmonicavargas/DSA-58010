{
  "nbformat": 4,
  "nbformat_minor": 0,
  "metadata": {
    "colab": {
      "name": "Pre-test in Python Programming.ipynb",
      "provenance": [],
      "authorship_tag": "ABX9TyMWyqdPljYcIHXI3D0nAZNm",
      "include_colab_link": true
    },
    "kernelspec": {
      "name": "python3",
      "display_name": "Python 3"
    },
    "language_info": {
      "name": "python"
    }
  },
  "cells": [
    {
      "cell_type": "markdown",
      "metadata": {
        "id": "view-in-github",
        "colab_type": "text"
      },
      "source": [
        "<a href=\"https://colab.research.google.com/github/zepxyeji/DSA-58010/blob/main/Pre_test_in_Python_Programming.ipynb\" target=\"_parent\"><img src=\"https://colab.research.google.com/assets/colab-badge.svg\" alt=\"Open In Colab\"/></a>"
      ]
    },
    {
      "cell_type": "markdown",
      "source": [
        "Question 1:"
      ],
      "metadata": {
        "id": "zWbGqnpPT9cE"
      }
    },
    {
      "cell_type": "code",
      "execution_count": 1,
      "metadata": {
        "colab": {
          "base_uri": "https://localhost:8080/"
        },
        "id": "zpkiOY0tQRrp",
        "outputId": "3d3d9567-809d-4e14-dfd4-f498b6633e15"
      },
      "outputs": [
        {
          "output_type": "stream",
          "name": "stdout",
          "text": [
            "Missy\n",
            "Lucky\n"
          ]
        }
      ],
      "source": [
        "class Cat:\n",
        "\n",
        "  def __init__(self, name):\n",
        "\n",
        "    self.name = name\n",
        "\n",
        "missy = Cat('Missy')\n",
        "lucky = Cat('Lucky')\n",
        "\n",
        "print(missy.name)\n",
        "print(lucky.name)"
      ]
    },
    {
      "cell_type": "markdown",
      "source": [
        "Question 2:"
      ],
      "metadata": {
        "id": "mzZ3O0t1UA7i"
      }
    },
    {
      "cell_type": "code",
      "source": [
        "class Shape:\n",
        "  def square(self):\n",
        "    return \"4 sides are equal\"\n",
        "  def rectangle(self):\n",
        "    return \"2 sides are equal\"\n",
        "\n",
        "class Polygon(Shape):\n",
        "  def triangle(self):\n",
        "    return \"has edges and vertices\"\n",
        "\n",
        "object = Shape()\n",
        "\n",
        "object.square()"
      ],
      "metadata": {
        "colab": {
          "base_uri": "https://localhost:8080/",
          "height": 35
        },
        "id": "lvRo2fF1Qgdp",
        "outputId": "8da84a72-8e0f-4e04-ef62-6eb8ad81a65b"
      },
      "execution_count": 2,
      "outputs": [
        {
          "output_type": "execute_result",
          "data": {
            "text/plain": [
              "'4 sides are equal'"
            ],
            "application/vnd.google.colaboratory.intrinsic+json": {
              "type": "string"
            }
          },
          "metadata": {},
          "execution_count": 2
        }
      ]
    },
    {
      "cell_type": "markdown",
      "source": [
        "Question 3:"
      ],
      "metadata": {
        "id": "YYc4dNXWUCZD"
      }
    },
    {
      "cell_type": "code",
      "source": [
        "class Rectangle:\n",
        "  def __init__(self,length,width):\n",
        "    self.length = length\n",
        "    self.width = width\n",
        "  \n",
        "  def Area(self):\n",
        "    print(self.length * self.width)\n",
        "\n",
        "rect = Rectangle(7, 3)\n",
        "rect.Area()"
      ],
      "metadata": {
        "colab": {
          "base_uri": "https://localhost:8080/"
        },
        "id": "6NuFvp4kQlFF",
        "outputId": "53d64e56-c6d1-4566-da96-0b30d00bfff6"
      },
      "execution_count": 3,
      "outputs": [
        {
          "output_type": "stream",
          "name": "stdout",
          "text": [
            "21\n"
          ]
        }
      ]
    },
    {
      "cell_type": "markdown",
      "source": [
        "Question 4:"
      ],
      "metadata": {
        "id": "j-s42sEZUD7h"
      }
    },
    {
      "cell_type": "code",
      "source": [
        "class Person:\n",
        "  def __init__(self, name, age):\n",
        "    self.name = name\n",
        "    self.age = age\n",
        "\n",
        "person = Person(\"Ana\",39)\n",
        "print(person.name)\n",
        "print(person.age)"
      ],
      "metadata": {
        "colab": {
          "base_uri": "https://localhost:8080/"
        },
        "id": "AosSmNGMQmlQ",
        "outputId": "e78005c0-28a6-44a4-f709-7769a6ab7923"
      },
      "execution_count": 4,
      "outputs": [
        {
          "output_type": "stream",
          "name": "stdout",
          "text": [
            "Ana\n",
            "39\n"
          ]
        }
      ]
    },
    {
      "cell_type": "markdown",
      "source": [
        "Question 5:"
      ],
      "metadata": {
        "id": "2EvlzmbKUFQJ"
      }
    },
    {
      "cell_type": "code",
      "source": [
        "class Shape:\n",
        "  def Area (self):\n",
        "    pass\n",
        "  def Perimeter(self):\n",
        "    pass\n",
        "class Rectangle:\n",
        "  def __init__(self,side1,side2):\n",
        "    self.side1 = side1\n",
        "    self.side2 = side2\n",
        "  def Area(self):\n",
        "    print(self.side1*self.side2)\n",
        "  def Perimeter(self):\n",
        "    print(2*(self.side1+self.side2))\n",
        "\n",
        "class Square(Shape):\n",
        "  def __init__(self,side):\n",
        "    self.side = side\n",
        "  def Area(self):\n",
        "    print(self.side**2)\n",
        "  def Perimeter(self):\n",
        "    print(self.side*4)\n",
        "square = Square(4)\n",
        "square.Area()\n",
        "\n",
        "rect=Rectangle(7,3)\n",
        "rect.Area()\n",
        "\n",
        "square.Perimeter()\n",
        "rect.Perimeter()"
      ],
      "metadata": {
        "colab": {
          "base_uri": "https://localhost:8080/"
        },
        "id": "th9RZwtPQqCU",
        "outputId": "93a6b08d-4b11-487b-cf2a-67d9ca7c473c"
      },
      "execution_count": 5,
      "outputs": [
        {
          "output_type": "stream",
          "name": "stdout",
          "text": [
            "16\n",
            "21\n",
            "16\n",
            "20\n"
          ]
        }
      ]
    },
    {
      "cell_type": "markdown",
      "source": [
        "Explain how Polymorphism and Inheritance are being applied in the program."
      ],
      "metadata": {
        "id": "p3eNNF1VUJ0M"
      }
    },
    {
      "cell_type": "markdown",
      "source": [
        "One of the major components of object-oriented programming is polymorphism. In C++, polymorphism enables code reuse by allowing the creation of a single function with multiple uses. Additionally, we can make operators polymorphic and use them to mix strings as well as integers in addition. Developers can program in the general rather than the specific using a language with polymorphism. A concept of object-oriented programming (OOP) called inheritance enables various objects to access an object's properties. Another class may inherit properties from a written class. All of the base class's properties are then transferred to the new class after this procedure is complete. It permits the inheritance of fields and methods from one class (child class) to another.\n",
        "\n"
      ],
      "metadata": {
        "id": "o5IZsIc7UVq9"
      }
    }
  ]
}